{
 "cells": [
  {
   "cell_type": "markdown",
   "id": "05d79657",
   "metadata": {},
   "source": [
    "# Basics of data wrangling features"
   ]
  },
  {
   "cell_type": "code",
   "execution_count": 1,
   "id": "71f9f400",
   "metadata": {},
   "outputs": [],
   "source": [
    "# creating a data frame"
   ]
  },
  {
   "cell_type": "code",
   "execution_count": 2,
   "id": "fbb4e7d9",
   "metadata": {},
   "outputs": [],
   "source": [
    "import pandas as pd"
   ]
  },
  {
   "cell_type": "code",
   "execution_count": 3,
   "id": "8ed468a1",
   "metadata": {},
   "outputs": [
    {
     "name": "stdout",
     "output_type": "stream",
     "text": [
      "  name  age       city\n",
      "0    a   24    new yrk\n",
      "1    b   27  los angel\n",
      "2    c   22    chicago\n"
     ]
    }
   ],
   "source": [
    "data={'name':['a','b','c'],'age':[24,27,22],'city':['new yrk','los angel','chicago']}\n",
    "df=pd.DataFrame(data)\n",
    "print(df)"
   ]
  },
  {
   "cell_type": "code",
   "execution_count": 4,
   "id": "e8d21b9c",
   "metadata": {},
   "outputs": [],
   "source": [
    "#reading csv files"
   ]
  },
  {
   "cell_type": "code",
   "execution_count": 5,
   "id": "417f83a6",
   "metadata": {},
   "outputs": [
    {
     "data": {
      "text/html": [
       "<div>\n",
       "<style scoped>\n",
       "    .dataframe tbody tr th:only-of-type {\n",
       "        vertical-align: middle;\n",
       "    }\n",
       "\n",
       "    .dataframe tbody tr th {\n",
       "        vertical-align: top;\n",
       "    }\n",
       "\n",
       "    .dataframe thead th {\n",
       "        text-align: right;\n",
       "    }\n",
       "</style>\n",
       "<table border=\"1\" class=\"dataframe\">\n",
       "  <thead>\n",
       "    <tr style=\"text-align: right;\">\n",
       "      <th></th>\n",
       "      <th>SALES DATA FOR A PROFIT PRICE</th>\n",
       "      <th>Unnamed: 1</th>\n",
       "      <th>Unnamed: 2</th>\n",
       "      <th>Unnamed: 3</th>\n",
       "      <th>Unnamed: 4</th>\n",
       "      <th>Unnamed: 5</th>\n",
       "      <th>Unnamed: 6</th>\n",
       "      <th>Unnamed: 7</th>\n",
       "      <th>Unnamed: 8</th>\n",
       "    </tr>\n",
       "  </thead>\n",
       "  <tbody>\n",
       "    <tr>\n",
       "      <th>0</th>\n",
       "      <td>PRODUCT ID</td>\n",
       "      <td>PRODUCT NAME</td>\n",
       "      <td>CATEGORY</td>\n",
       "      <td>CURRENT PRICE</td>\n",
       "      <td>UNIT COST</td>\n",
       "      <td>UNIT SOLD</td>\n",
       "      <td>TOTAL REVENUE</td>\n",
       "      <td>TOTAL COST</td>\n",
       "      <td>TOTAL PROFIT</td>\n",
       "    </tr>\n",
       "    <tr>\n",
       "      <th>1</th>\n",
       "      <td>101</td>\n",
       "      <td>WIDGET A</td>\n",
       "      <td>GADGETS</td>\n",
       "      <td>20</td>\n",
       "      <td>10</td>\n",
       "      <td>200</td>\n",
       "      <td>4000</td>\n",
       "      <td>2000</td>\n",
       "      <td>2000</td>\n",
       "    </tr>\n",
       "    <tr>\n",
       "      <th>2</th>\n",
       "      <td>102</td>\n",
       "      <td>WIDGET B</td>\n",
       "      <td>GADGETS</td>\n",
       "      <td>15</td>\n",
       "      <td>8</td>\n",
       "      <td>300</td>\n",
       "      <td>4500</td>\n",
       "      <td>2400</td>\n",
       "      <td>2100</td>\n",
       "    </tr>\n",
       "    <tr>\n",
       "      <th>3</th>\n",
       "      <td>103</td>\n",
       "      <td>GADGET X</td>\n",
       "      <td>DEVICES</td>\n",
       "      <td>50</td>\n",
       "      <td>30</td>\n",
       "      <td>100</td>\n",
       "      <td>5000</td>\n",
       "      <td>3000</td>\n",
       "      <td>2000</td>\n",
       "    </tr>\n",
       "    <tr>\n",
       "      <th>4</th>\n",
       "      <td>104</td>\n",
       "      <td>GADGET Y</td>\n",
       "      <td>DEVICES</td>\n",
       "      <td>45</td>\n",
       "      <td>25</td>\n",
       "      <td>150</td>\n",
       "      <td>6750</td>\n",
       "      <td>3750</td>\n",
       "      <td>3000</td>\n",
       "    </tr>\n",
       "  </tbody>\n",
       "</table>\n",
       "</div>"
      ],
      "text/plain": [
       "  SALES DATA FOR A PROFIT PRICE    Unnamed: 1 Unnamed: 2     Unnamed: 3  \\\n",
       "0                    PRODUCT ID  PRODUCT NAME   CATEGORY  CURRENT PRICE   \n",
       "1                           101      WIDGET A    GADGETS             20   \n",
       "2                           102      WIDGET B    GADGETS             15   \n",
       "3                           103      GADGET X    DEVICES             50   \n",
       "4                           104      GADGET Y    DEVICES             45   \n",
       "\n",
       "  Unnamed: 4 Unnamed: 5     Unnamed: 6  Unnamed: 7    Unnamed: 8  \n",
       "0  UNIT COST  UNIT SOLD  TOTAL REVENUE  TOTAL COST  TOTAL PROFIT  \n",
       "1         10        200           4000        2000          2000  \n",
       "2          8        300           4500        2400          2100  \n",
       "3         30        100           5000        3000          2000  \n",
       "4         25        150           6750        3750          3000  "
      ]
     },
     "execution_count": 5,
     "metadata": {},
     "output_type": "execute_result"
    }
   ],
   "source": [
    "df=pd.read_csv('sample.csv')\n",
    "df.head()"
   ]
  },
  {
   "cell_type": "code",
   "execution_count": 6,
   "id": "0a198368",
   "metadata": {},
   "outputs": [],
   "source": [
    "#data cleaning"
   ]
  },
  {
   "cell_type": "code",
   "execution_count": 8,
   "id": "cf8f64b2",
   "metadata": {},
   "outputs": [
    {
     "name": "stdout",
     "output_type": "stream",
     "text": [
      "     a    b\n",
      "1  2.0  2.0\n",
      "3  4.0  4.0\n"
     ]
    }
   ],
   "source": [
    "df=pd.DataFrame({'a':[1,2,None,4],'b':[None,2,3,4]})\n",
    "cleaned=df.dropna()\n",
    "print(cleaned)"
   ]
  },
  {
   "cell_type": "code",
   "execution_count": 9,
   "id": "774dc16b",
   "metadata": {},
   "outputs": [],
   "source": [
    "#filtering data"
   ]
  },
  {
   "cell_type": "code",
   "execution_count": 10,
   "id": "6020c2fc",
   "metadata": {},
   "outputs": [
    {
     "name": "stdout",
     "output_type": "stream",
     "text": [
      "   a  b\n",
      "2  3  7\n",
      "3  4  8\n"
     ]
    }
   ],
   "source": [
    "df=pd.DataFrame({'a':[1,2,3,4],'b':[5,6,7,8]})\n",
    "filt=df[df['a']>2]\n",
    "print(filt)"
   ]
  },
  {
   "cell_type": "code",
   "execution_count": 11,
   "id": "57d6a435",
   "metadata": {},
   "outputs": [],
   "source": [
    "# grouping data"
   ]
  },
  {
   "cell_type": "code",
   "execution_count": 12,
   "id": "10c23db8",
   "metadata": {},
   "outputs": [
    {
     "name": "stdout",
     "output_type": "stream",
     "text": [
      "     b\n",
      "a     \n",
      "boo  6\n",
      "foo  4\n"
     ]
    }
   ],
   "source": [
    "df=pd.DataFrame({'a':['foo','boo','foo','boo'],'b':[1,2,3,4]})\n",
    "grp=df.groupby('a').sum()\n",
    "print(grp)"
   ]
  },
  {
   "cell_type": "code",
   "execution_count": 13,
   "id": "6019218f",
   "metadata": {},
   "outputs": [],
   "source": [
    "#merging dataframe"
   ]
  },
  {
   "cell_type": "code",
   "execution_count": 17,
   "id": "21dfc178",
   "metadata": {},
   "outputs": [
    {
     "name": "stdout",
     "output_type": "stream",
     "text": [
      "     a  b_x  b_y\n",
      "0  foo    1    3\n",
      "1  boo    2    4\n"
     ]
    }
   ],
   "source": [
    "df1=pd.DataFrame({'a':['foo','boo'],'b':[1,2]})\n",
    "df2=pd.DataFrame({'a':['foo','boo'],'b':[3,4]})\n",
    "mergee=pd.merge(df1,df2,on='a')\n",
    "print(mergee)"
   ]
  },
  {
   "cell_type": "code",
   "execution_count": null,
   "id": "9c3d0512",
   "metadata": {},
   "outputs": [],
   "source": []
  }
 ],
 "metadata": {
  "kernelspec": {
   "display_name": "Python 3 (ipykernel)",
   "language": "python",
   "name": "python3"
  },
  "language_info": {
   "codemirror_mode": {
    "name": "ipython",
    "version": 3
   },
   "file_extension": ".py",
   "mimetype": "text/x-python",
   "name": "python",
   "nbconvert_exporter": "python",
   "pygments_lexer": "ipython3",
   "version": "3.9.12"
  }
 },
 "nbformat": 4,
 "nbformat_minor": 5
}
